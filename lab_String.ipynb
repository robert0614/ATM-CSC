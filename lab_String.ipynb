{
  "cells": [
    {
      "cell_type": "markdown",
      "metadata": {
        "id": "view-in-github",
        "colab_type": "text"
      },
      "source": [
        "<a href=\"https://colab.research.google.com/github/robert0614/ATM-CSC205/blob/master/lab_String.ipynb\" target=\"_parent\"><img src=\"https://colab.research.google.com/assets/colab-badge.svg\" alt=\"Open In Colab\"/></a>"
      ]
    },
    {
      "cell_type": "markdown",
      "metadata": {
        "id": "NBk5IZ8GKCEu"
      },
      "source": [
        "# CIS024C -  Fall 2024 - Lab String\n",
        "\n",
        "## Lab String\n",
        "\n",
        "**Lab String is about String Manipulation, list, and tuple**"
      ]
    },
    {
      "cell_type": "markdown",
      "metadata": {
        "id": "Ep9irVVeKCEv"
      },
      "source": [
        "#### Exercise 1 (4 points)\n",
        "\n",
        "Write a Python program to accept a users name and print it in reverse"
      ]
    },
    {
      "cell_type": "code",
      "execution_count": null,
      "metadata": {
        "id": "0kb00sKWKCEw"
      },
      "outputs": [],
      "source": [
        "### YOUR CODE GOES BELOW\n",
        "\n",
        "\n",
        "### END CODE"
      ]
    },
    {
      "cell_type": "markdown",
      "metadata": {
        "id": "nLtKyXf9KCEw"
      },
      "source": [
        "#### Exercise 2 (4 points)\n",
        "\n",
        "Write a python program to get input from the user in both upper and lower case.\n",
        "\n",
        "* Convert the input to lower case and display the result.\n",
        "* Convert the input to upper case and display the result.\n",
        "\n"
      ]
    },
    {
      "cell_type": "code",
      "execution_count": null,
      "metadata": {
        "id": "YaEMhdxiKCEx"
      },
      "outputs": [],
      "source": [
        "### YOUR CODE GOES BELOW\n",
        "\n",
        "\n",
        "### END CODE"
      ]
    },
    {
      "cell_type": "markdown",
      "metadata": {
        "id": "Jm_oodPUKCEx"
      },
      "source": [
        "#### Exercise 3 (4 points)\n",
        "\n",
        "Write a python program to get two strings from the user - a string variable named text and another string variable named match. Look for match in text and remove all occurrences of match and display the result.\n",
        "\n",
        "For example, if the string is “It is cold outside” and the search string is “cold”. Your result should be “It is outside”\n"
      ]
    },
    {
      "cell_type": "code",
      "execution_count": null,
      "metadata": {
        "id": "NTiIMqAtKCEx"
      },
      "outputs": [],
      "source": [
        "### YOUR CODE GOES BELOW\n",
        "\n",
        "\n",
        "### END CODE"
      ]
    },
    {
      "cell_type": "markdown",
      "metadata": {
        "id": "ObbfpG5NKCEx"
      },
      "source": [
        "#### Exercise 4 (4 points)\n",
        "\n",
        "Write a python program to accept a set of comma separated set of values from the user and display each individual value separately.\n"
      ]
    },
    {
      "cell_type": "code",
      "execution_count": null,
      "metadata": {
        "id": "nGZ2HLE_KCEx"
      },
      "outputs": [],
      "source": [
        "### YOUR CODE GOES BELOW\n",
        "\n",
        "\n",
        "### END CODE"
      ]
    },
    {
      "cell_type": "markdown",
      "source": [
        "### Exercise 5 (4 points)\n",
        "Write a Python program to get a list of your fruits (more than 5 fruits). Then find the legth of your list. Modify your list by removing the 3rd item ffrom the list."
      ],
      "metadata": {
        "id": "B9cfELHLVLN8"
      }
    },
    {
      "cell_type": "code",
      "source": [
        "### YOUR CODE GOES BELOW\n",
        "\n",
        "\n",
        "### END CODE"
      ],
      "metadata": {
        "id": "0SOiYaisYI5j"
      },
      "execution_count": null,
      "outputs": []
    },
    {
      "cell_type": "markdown",
      "source": [
        "Exercise 6 (4 points)\n",
        "Write a Python program and get tuples of car names. Then intruduce a second tuple that is the first tuples * n. Print your second tuple."
      ],
      "metadata": {
        "id": "9FlJSgZTYOu_"
      }
    },
    {
      "cell_type": "code",
      "source": [
        "### YOUR CODE GOES BELOW\n",
        "\n",
        "\n",
        "### END CODE"
      ],
      "metadata": {
        "id": "8kIbwR0UeRuO"
      },
      "execution_count": null,
      "outputs": []
    }
  ],
  "metadata": {
    "kernelspec": {
      "display_name": "Python 3",
      "language": "python",
      "name": "python3"
    },
    "language_info": {
      "codemirror_mode": {
        "name": "ipython",
        "version": 3
      },
      "file_extension": ".py",
      "mimetype": "text/x-python",
      "name": "python",
      "nbconvert_exporter": "python",
      "pygments_lexer": "ipython3",
      "version": "3.8.5"
    },
    "colab": {
      "provenance": [],
      "include_colab_link": true
    }
  },
  "nbformat": 4,
  "nbformat_minor": 0
}